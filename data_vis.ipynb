{
 "cells": [
  {
   "cell_type": "markdown",
   "id": "97b95957",
   "metadata": {},
   "source": [
    "# Data Visualization from H5 File\n",
    "\n",
    "This notebook will explore and visualize the data from the `shot_66441_data.h5` file."
   ]
  },
  {
   "cell_type": "code",
   "execution_count": 3,
   "id": "557986a5",
   "metadata": {},
   "outputs": [
    {
     "name": "stdout",
     "output_type": "stream",
     "text": [
      "\u001b[2mResolved \u001b[1m58 packages\u001b[0m \u001b[2min 7ms\u001b[0m\u001b[0m\n",
      "\u001b[2mAudited \u001b[1m53 packages\u001b[0m \u001b[2min 0.45ms\u001b[0m\u001b[0m\n"
     ]
    }
   ],
   "source": [
    "# Install required packages\n",
    "!uv add h5py pandas matplotlib seaborn plotly numpy"
   ]
  },
  {
   "cell_type": "code",
   "execution_count": 4,
   "id": "777d2f68",
   "metadata": {},
   "outputs": [],
   "source": [
    "# Import required libraries\n",
    "import h5py\n",
    "import pandas as pd\n",
    "import numpy as np\n",
    "import matplotlib.pyplot as plt\n",
    "import seaborn as sns\n",
    "import plotly.express as px\n",
    "import plotly.graph_objects as go\n",
    "from plotly.subplots import make_subplots\n",
    "import warnings\n",
    "warnings.filterwarnings('ignore')\n",
    "\n",
    "# Set up plotting style\n",
    "plt.style.use('seaborn-v0_8')\n",
    "sns.set_palette(\"husl\")"
   ]
  },
  {
   "cell_type": "code",
   "execution_count": 5,
   "id": "b382749f",
   "metadata": {},
   "outputs": [
    {
     "name": "stdout",
     "output_type": "stream",
     "text": [
      "H5 File Structure:\n",
      "==================\n",
      "astra: Group\n",
      "q: Dataset, shape=(2310, 61), dtype=float64\n",
      "rhopol: Dataset, shape=(2310, 61), dtype=float64\n",
      "time: Dataset, shape=(1, 2310), dtype=float64\n",
      "astra/q: Dataset, shape=(2310, 61), dtype=float64\n",
      "astra/rhopol: Dataset, shape=(2310, 61), dtype=float64\n",
      "astra/time: Dataset, shape=(1, 2310), dtype=float64\n",
      "mhd: Group\n",
      "amplitude: Dataset, shape=(1, 29021), dtype=float64\n",
      "time: Dataset, shape=(1, 29021), dtype=float64\n",
      "mhd/amplitude: Dataset, shape=(1, 29021), dtype=float64\n",
      "mhd/time: Dataset, shape=(1, 29021), dtype=float64\n",
      "width: Group\n",
      "freqs: Dataset, shape=(1, 1900), dtype=float64\n",
      "mpol: Dataset, shape=(1, 1900), dtype=float64\n",
      "ntor: Dataset, shape=(1, 1900), dtype=float64\n",
      "rhoRes: Dataset, shape=(1, 1900), dtype=float64\n",
      "time: Dataset, shape=(1, 1900), dtype=float64\n",
      "width: Dataset, shape=(1, 1900), dtype=float64\n",
      "width/freqs: Dataset, shape=(1, 1900), dtype=float64\n",
      "width/mpol: Dataset, shape=(1, 1900), dtype=float64\n",
      "width/ntor: Dataset, shape=(1, 1900), dtype=float64\n",
      "width/rhoRes: Dataset, shape=(1, 1900), dtype=float64\n",
      "width/time: Dataset, shape=(1, 1900), dtype=float64\n",
      "width/width: Dataset, shape=(1, 1900), dtype=float64\n"
     ]
    }
   ],
   "source": [
    "# Load and explore the H5 file structure\n",
    "# file_path = 'data/shot_66441_data.h5'\n",
    "# file_path = 'data/shot_66674_data.h5'\n",
    "file_path = 'data/shot_60123_data.h5'\n",
    "\n",
    "def explore_h5_structure(file_path, level=0, max_level=3):\n",
    "    \"\"\"Recursively explore H5 file structure\"\"\"\n",
    "    def print_structure(name, obj):\n",
    "        indent = \"  \" * level\n",
    "        if isinstance(obj, h5py.Dataset):\n",
    "            print(f\"{indent}{name}: Dataset, shape={obj.shape}, dtype={obj.dtype}\")\n",
    "        elif isinstance(obj, h5py.Group):\n",
    "            print(f\"{indent}{name}: Group\")\n",
    "            if level < max_level:\n",
    "                obj.visititems(lambda n, o: print_structure(n, o) if n.count('/') == level else None)\n",
    "    \n",
    "    with h5py.File(file_path, 'r') as f:\n",
    "        print(\"H5 File Structure:\")\n",
    "        print(\"==================\")\n",
    "        f.visititems(print_structure)\n",
    "\n",
    "explore_h5_structure(file_path)"
   ]
  },
  {
   "cell_type": "code",
   "execution_count": 6,
   "id": "2ee77d6b",
   "metadata": {},
   "outputs": [
    {
     "name": "stdout",
     "output_type": "stream",
     "text": [
      "Dataset Values:\n",
      "==================================================\n",
      "\n",
      "width/time: shape=(1, 1900)\n",
      "Values: [[   nan    nan    nan ... 2.3375 2.3385    nan]]\n",
      "\n",
      "width/width: shape=(1, 1900)\n",
      "Values: [[nan nan nan ... nan nan nan]]\n",
      "\n",
      "freqs: shape=(1, 1900)\n",
      "Values: [[          nan           nan           nan ... 1602.17285156\n",
      "  1358.03222656           nan]]\n",
      "\n",
      "mpol: shape=(1, 1900)\n",
      "Values: [[nan nan nan ...  2.  2. nan]]\n",
      "\n",
      "ntor: shape=(1, 1900)\n",
      "Values: [[nan nan nan ...  1.  1. nan]]\n",
      "\n",
      "rhoRes: shape=(1, 1900)\n",
      "Values: [[       nan        nan        nan ... 0.6192869  0.61923099        nan]]\n",
      "\n",
      "==================================================\n",
      "Basic Statistics:\n",
      "==================================================\n",
      "\n",
      "width/time:\n",
      "  Min: nan\n",
      "  Max: nan\n",
      "  Mean: nan\n",
      "  Std: nan\n",
      "  First 10 values: [nan nan nan nan nan nan nan nan nan nan]\n",
      "  Last 10 values: [   nan    nan 2.3325 2.3335 2.3345 2.3355 2.3365 2.3375 2.3385    nan]\n",
      "\n",
      "width/width:\n",
      "  Min: nan\n",
      "  Max: nan\n",
      "  Mean: nan\n",
      "  Std: nan\n",
      "  First 10 values: [nan nan nan nan nan nan nan nan nan nan]\n",
      "  Last 10 values: [nan nan nan nan nan nan nan nan nan nan]\n",
      "\n",
      "freqs:\n",
      "  Min: nan\n",
      "  Max: nan\n",
      "  Mean: nan\n",
      "  Std: nan\n",
      "  First 10 values: [nan nan nan nan nan nan nan nan nan nan]\n",
      "  Last 10 values: [          nan           nan 1220.703125   1312.25585938 1358.03222656\n",
      " 1281.73828125 1388.54980469 1602.17285156 1358.03222656           nan]\n",
      "\n",
      "mpol:\n",
      "  Min: nan\n",
      "  Max: nan\n",
      "  Mean: nan\n",
      "  Std: nan\n",
      "  First 10 values: [nan nan nan nan nan nan nan nan nan nan]\n",
      "  Last 10 values: [nan nan  2.  2.  2.  2.  2.  2.  2. nan]\n",
      "\n",
      "ntor:\n",
      "  Min: nan\n",
      "  Max: nan\n",
      "  Mean: nan\n",
      "  Std: nan\n",
      "  First 10 values: [nan nan nan nan nan nan nan nan nan nan]\n",
      "  Last 10 values: [nan nan  1.  1.  1.  1.  1.  1.  1. nan]\n",
      "\n",
      "rhoRes:\n",
      "  Min: nan\n",
      "  Max: nan\n",
      "  Mean: nan\n",
      "  Std: nan\n",
      "  First 10 values: [nan nan nan nan nan nan nan nan nan nan]\n",
      "  Last 10 values: [       nan        nan 0.62010704 0.6199059  0.61971337 0.61952101\n",
      " 0.61938001 0.6192869  0.61923099        nan]\n"
     ]
    }
   ],
   "source": [
    "# Extract and print values from the specified datasets\n",
    "with h5py.File(file_path, 'r') as f:\n",
    "    # Extract the datasets (they are all within the width group)\n",
    "    width_time = f['width/time'][:]\n",
    "    width_width = f['width/width'][:]\n",
    "    freqs = f['width/freqs'][:]\n",
    "    mpol = f['width/mpol'][:]\n",
    "    ntor = f['width/ntor'][:]\n",
    "    rhoRes = f['width/rhoRes'][:]\n",
    "    \n",
    "    print(\"Dataset Values:\")\n",
    "    print(\"=\" * 50)\n",
    "    \n",
    "    print(f\"\\nwidth/time: shape={width_time.shape}\")\n",
    "    print(f\"Values: {width_time}\")\n",
    "    \n",
    "    print(f\"\\nwidth/width: shape={width_width.shape}\")\n",
    "    print(f\"Values: {width_width}\")\n",
    "    \n",
    "    print(f\"\\nfreqs: shape={freqs.shape}\")\n",
    "    print(f\"Values: {freqs}\")\n",
    "    \n",
    "    print(f\"\\nmpol: shape={mpol.shape}\")\n",
    "    print(f\"Values: {mpol}\")\n",
    "    \n",
    "    print(f\"\\nntor: shape={ntor.shape}\")\n",
    "    print(f\"Values: {ntor}\")\n",
    "    \n",
    "    print(f\"\\nrhoRes: shape={rhoRes.shape}\")\n",
    "    print(f\"Values: {rhoRes}\")\n",
    "    \n",
    "    # Also show some basic statistics\n",
    "    print(\"\\n\" + \"=\" * 50)\n",
    "    print(\"Basic Statistics:\")\n",
    "    print(\"=\" * 50)\n",
    "    \n",
    "    datasets = {\n",
    "        'width/time': width_time[0],  # Remove the first dimension since it's (1, 1900)\n",
    "        'width/width': width_width[0],\n",
    "        'freqs': freqs[0],\n",
    "        'mpol': mpol[0],\n",
    "        'ntor': ntor[0],\n",
    "        'rhoRes': rhoRes[0]\n",
    "    }\n",
    "    \n",
    "    for name, data in datasets.items():\n",
    "        print(f\"\\n{name}:\")\n",
    "        print(f\"  Min: {np.min(data):.6f}\")\n",
    "        print(f\"  Max: {np.max(data):.6f}\")\n",
    "        print(f\"  Mean: {np.mean(data):.6f}\")\n",
    "        print(f\"  Std: {np.std(data):.6f}\")\n",
    "        print(f\"  First 10 values: {data[:10]}\")\n",
    "        print(f\"  Last 10 values: {data[-10:]}\")"
   ]
  },
  {
   "cell_type": "code",
   "execution_count": 7,
   "id": "002bad24",
   "metadata": {},
   "outputs": [
    {
     "name": "stdout",
     "output_type": "stream",
     "text": [
      "============================================================\n",
      "FILTERED ANALYSIS (excluding NaN values)\n",
      "============================================================\n",
      "\n",
      "width/time:\n",
      "  Total length: 1900\n",
      "  Valid (non-NaN) values: 1852\n",
      "  NaN values: 48\n",
      "  Min: 0.472500\n",
      "  Max: 2.338500\n",
      "  Mean: 1.399349\n",
      "  Std: 0.535657\n",
      "  First 10 valid values: [0.4725 0.4735 0.4745 0.4755 0.4765 0.4775 0.4785 0.4795 0.4805 0.4815]\n",
      "  Last 10 valid values: [2.3235 2.3245 2.3255 2.3325 2.3335 2.3345 2.3355 2.3365 2.3375 2.3385]\n",
      "  Valid data range: indices 32 to 1898\n",
      "  Data coverage: 1852/1900 (97.5%)\n",
      "\n",
      "width/width:\n",
      "  Total length: 1900\n",
      "  Valid (non-NaN) values: 1775\n",
      "  NaN values: 125\n",
      "  Min: 0.018369\n",
      "  Max: 0.040140\n",
      "  Mean: 0.033665\n",
      "  Std: 0.003448\n",
      "  First 10 valid values: [0.01836927 0.02002589 0.02156992 0.01917405 0.02116773 0.02334019\n",
      " 0.02308113 0.02346751 0.02410877 0.02142074]\n",
      "  Last 10 valid values: [0.02780106 0.02641292 0.02692264 0.02656749 0.026817   0.026555\n",
      " 0.02563299 0.02560059 0.02518796 0.02329138]\n",
      "  Valid data range: indices 32 to 1838\n",
      "  Data coverage: 1775/1900 (93.4%)\n",
      "\n",
      "freqs:\n",
      "  Total length: 1900\n",
      "  Valid (non-NaN) values: 1852\n",
      "  NaN values: 48\n",
      "  Min: 1129.150391\n",
      "  Max: 6484.985352\n",
      "  Mean: 3806.194528\n",
      "  Std: 618.234987\n",
      "  First 10 valid values: [5813.59863281 6210.32714844 6484.98535156 6225.5859375  5279.54101562\n",
      " 5310.05859375 5310.05859375 5264.28222656 5386.35253906 5523.68164062]\n",
      "  Last 10 valid values: [1266.47949219 1296.99707031 1388.54980469 1220.703125   1312.25585938\n",
      " 1358.03222656 1281.73828125 1388.54980469 1602.17285156 1358.03222656]\n",
      "  Valid data range: indices 32 to 1898\n",
      "  Data coverage: 1852/1900 (97.5%)\n",
      "\n",
      "mpol:\n",
      "  Total length: 1900\n",
      "  Valid (non-NaN) values: 1853\n",
      "  NaN values: 47\n",
      "  Min: 2.000000\n",
      "  Max: 2.000000\n",
      "  Mean: 2.000000\n",
      "  Std: 0.000000\n",
      "  First 10 valid values: [2. 2. 2. 2. 2. 2. 2. 2. 2. 2.]\n",
      "  Last 10 valid values: [2. 2. 2. 2. 2. 2. 2. 2. 2. 2.]\n",
      "  Valid data range: indices 32 to 1898\n",
      "  Data coverage: 1853/1900 (97.5%)\n",
      "\n",
      "ntor:\n",
      "  Total length: 1900\n",
      "  Valid (non-NaN) values: 1853\n",
      "  NaN values: 47\n",
      "  Min: 1.000000\n",
      "  Max: 1.000000\n",
      "  Mean: 1.000000\n",
      "  Std: 0.000000\n",
      "  First 10 valid values: [1. 1. 1. 1. 1. 1. 1. 1. 1. 1.]\n",
      "  Last 10 valid values: [1. 1. 1. 1. 1. 1. 1. 1. 1. 1.]\n",
      "  Valid data range: indices 32 to 1898\n",
      "  Data coverage: 1853/1900 (97.5%)\n",
      "\n",
      "rhoRes:\n",
      "  Total length: 1900\n",
      "  Valid (non-NaN) values: 1853\n",
      "  NaN values: 47\n",
      "  Min: 0.616287\n",
      "  Max: 0.723359\n",
      "  Mean: 0.676731\n",
      "  Std: 0.021563\n",
      "  First 10 valid values: [0.72278687 0.722975   0.7231242  0.72323619 0.72331219 0.72335308\n",
      " 0.72335945 0.72333174 0.72327419 0.72319027]\n",
      "  Last 10 valid values: [0.62117142 0.62110567 0.62077867 0.62010704 0.6199059  0.61971337\n",
      " 0.61952101 0.61938001 0.6192869  0.61923099]\n",
      "  Valid data range: indices 32 to 1898\n",
      "  Data coverage: 1853/1900 (97.5%)\n"
     ]
    }
   ],
   "source": [
    "# Analyze the data excluding NaN values\n",
    "print(\"=\" * 60)\n",
    "print(\"FILTERED ANALYSIS (excluding NaN values)\")\n",
    "print(\"=\" * 60)\n",
    "\n",
    "with h5py.File(file_path, 'r') as f:\n",
    "    # Extract the datasets and remove the first dimension\n",
    "    datasets = {\n",
    "        'width/time': f['width/time'][0],\n",
    "        'width/width': f['width/width'][0],\n",
    "        'freqs': f['width/freqs'][0],\n",
    "        'mpol': f['width/mpol'][0], \n",
    "        'ntor': f['width/ntor'][0],\n",
    "        'rhoRes': f['width/rhoRes'][0]\n",
    "    }\n",
    "    \n",
    "    for name, data in datasets.items():\n",
    "        # Filter out NaN values\n",
    "        valid_data = data[~np.isnan(data)]\n",
    "        \n",
    "        print(f\"\\n{name}:\")\n",
    "        print(f\"  Total length: {len(data)}\")\n",
    "        print(f\"  Valid (non-NaN) values: {len(valid_data)}\")\n",
    "        print(f\"  NaN values: {len(data) - len(valid_data)}\")\n",
    "        \n",
    "        if len(valid_data) > 0:\n",
    "            print(f\"  Min: {np.min(valid_data):.6f}\")\n",
    "            print(f\"  Max: {np.max(valid_data):.6f}\")\n",
    "            print(f\"  Mean: {np.mean(valid_data):.6f}\")\n",
    "            print(f\"  Std: {np.std(valid_data):.6f}\")\n",
    "            print(f\"  First 10 valid values: {valid_data[:min(10, len(valid_data))]}\")\n",
    "            print(f\"  Last 10 valid values: {valid_data[-min(10, len(valid_data)):]}\")\n",
    "        else:\n",
    "            print(\"  No valid (non-NaN) values found!\")\n",
    "            \n",
    "        # Show the range of indices where valid data exists\n",
    "        valid_indices = np.where(~np.isnan(data))[0]\n",
    "        if len(valid_indices) > 0:\n",
    "            print(f\"  Valid data range: indices {valid_indices[0]} to {valid_indices[-1]}\")\n",
    "            print(f\"  Data coverage: {len(valid_indices)}/{len(data)} ({100*len(valid_indices)/len(data):.1f}%)\")"
   ]
  },
  {
   "cell_type": "code",
   "execution_count": 8,
   "id": "affe997b",
   "metadata": {},
   "outputs": [
    {
     "name": "stdout",
     "output_type": "stream",
     "text": [
      "============================================================\n",
      "TIME ARRAY ANALYSIS FOR ALL GROUPS\n",
      "============================================================\n",
      "Time Array Information:\n",
      "----------------------------------------\n",
      "\n",
      "ASTRA group:\n",
      "  Total points: 2310\n",
      "  Valid points: 2310\n",
      "  Time range: 0.1000 - 2.4098 seconds\n",
      "  Duration: 2.3098 seconds\n",
      "  Time step (mean): 0.001000 seconds\n",
      "\n",
      "WIDTH group:\n",
      "  Total points: 1900\n",
      "  Valid points: 1852\n",
      "  Time range: 0.4725 - 2.3385 seconds\n",
      "  Duration: 1.8660 seconds\n",
      "  Time step (mean): 0.001008 seconds\n",
      "\n",
      "MHD group:\n",
      "  Total points: 29021\n",
      "  Valid points: 29021\n",
      "  Time range: 0.0100 - 2.9120 seconds\n",
      "  Duration: 2.9020 seconds\n",
      "  Time step (mean): 0.000100 seconds\n",
      "\n",
      "Data will be stored for interactive plotting...\n",
      "ASTRA data shape: (2310,)\n",
      "WIDTH data shape: (1900,)\n",
      "MHD data shape: (29021,)\n"
     ]
    }
   ],
   "source": [
    "# Extract and examine time arrays from all groups\n",
    "print(\"=\" * 60)\n",
    "print(\"TIME ARRAY ANALYSIS FOR ALL GROUPS\")\n",
    "print(\"=\" * 60)\n",
    "\n",
    "with h5py.File(file_path, 'r') as f:\n",
    "    # Extract time arrays from each group\n",
    "    astra_time = f['astra/time'][0]  # Remove first dimension\n",
    "    width_time = f['width/time'][0]\n",
    "    mhd_time = f['mhd/time'][0]\n",
    "    \n",
    "    # Extract some representative data from each group\n",
    "    astra_q = f['astra/q'][:, 30]  # Take middle radial position (column 30 out of 61)\n",
    "    width_width = f['width/width'][0]\n",
    "    mhd_amplitude = f['mhd/amplitude'][0]\n",
    "    \n",
    "    print(\"Time Array Information:\")\n",
    "    print(\"-\" * 40)\n",
    "    \n",
    "    for name, time_array in [('ASTRA', astra_time), ('WIDTH', width_time), ('MHD', mhd_time)]:\n",
    "        valid_time = time_array[~np.isnan(time_array)]\n",
    "        print(f\"\\n{name} group:\")\n",
    "        print(f\"  Total points: {len(time_array)}\")\n",
    "        print(f\"  Valid points: {len(valid_time)}\")\n",
    "        print(f\"  Time range: {valid_time.min():.4f} - {valid_time.max():.4f} seconds\")\n",
    "        print(f\"  Duration: {valid_time.max() - valid_time.min():.4f} seconds\")\n",
    "        print(f\"  Time step (mean): {np.mean(np.diff(valid_time)):.6f} seconds\")\n",
    "    \n",
    "    # Store data for plotting\n",
    "    time_data = {\n",
    "        'astra': {'time': astra_time, 'data': astra_q, 'label': 'ASTRA q-profile (mid-radius)'},\n",
    "        'width': {'time': width_time, 'data': width_width, 'label': 'Width'},\n",
    "        'mhd': {'time': mhd_time, 'data': mhd_amplitude, 'label': 'MHD Amplitude'}\n",
    "    }\n",
    "    \n",
    "    print(f\"\\nData will be stored for interactive plotting...\")\n",
    "    print(f\"ASTRA data shape: {astra_q.shape}\")\n",
    "    print(f\"WIDTH data shape: {width_width.shape}\")\n",
    "    print(f\"MHD data shape: {mhd_amplitude.shape}\")"
   ]
  },
  {
   "cell_type": "code",
   "execution_count": null,
   "id": "53ba7008",
   "metadata": {},
   "outputs": [
    {
     "name": "stdout",
     "output_type": "stream",
     "text": [
      "Creating interactive plot with time-aligned data...\n",
      "Common time window: 0.4725 to 2.3385 seconds\n"
     ]
    },
    {
     "data": {
      "application/vnd.plotly.v1+json": {
       "config": {
        "plotlyServerURL": "https://plot.ly"
       },
       "data": [
        {
         "hovertemplate": "<b>ASTRA q-profile</b><br>Time: %{x:.4f} s<br>Value: %{y:.6f}<extra></extra>",
         "line": {
          "color": "#1f77b4",
          "width": 2
         },
         "mode": "lines",
         "name": "ASTRA q-profile",
         "type": "scatter",
         "x": {
          "bdata": "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",
          "dtype": "f8"
         },
         "xaxis": "x",
         "y": {
          "bdata": "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",
          "dtype": "f8"
         },
         "yaxis": "y"
        },
        {
         "hovertemplate": "<b>Width</b><br>Time: %{x:.4f} s<br>Value: %{y:.6f}<extra></extra>",
         "line": {
          "color": "#ff7f0e",
          "width": 2
         },
         "mode": "lines",
         "name": "Width",
         "type": "scatter",
         "x": {
          "bdata": "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",
          "dtype": "f8"
         },
         "xaxis": "x2",
         "y": {
          "bdata": "bhIEpWTPkj/aw9WR8eCVP4gGVl3hIpU/Gpe/EIC9lz9+1l9SH1eYP2fNO852spY/OtMM2LaYmD9kQ3NA8IKZP1zBS3528Jg/dETScbeLmD85UUb09/GYP6rzy3J6pJo/4l1kmMjOmj/78o/gU0KbPzxXeJiidJo/IceVKSpLmz9Vp/WYEmKcP0imT5Qgwps/yL5nF5KXnD/YvXwynJ+cPzdJaNvIopw/keyN8UWwnT9R+1Bt7+GcPxbXfA8Q7Zw/4sDRm/+Nnj+95UuXSHadP6D+8ceS+Z0/ZNYh2bkinT+uPiaiy/qcP+74dQ6piJw/++QNv+e9nD8tKGVZ6s2cP/e4LcCM+pw/kLH4R1I9nT+fYrjK7hidP/0RiLoFa5s/YiDUK7YnnT/hs7QJ8V2cPxfjwauai50/8Tmv/9GRnD8nfoshucmcP/sCA7I7QJ0/EZuWXXIInj87jrGAQE2dP0E68z77EJ8/6W+bNVpIoD8ybElVq0egP5IuXbPkl6A/z46OSq68oD+pVt7+GeSgP0LDo5TpuaA/qcPcsarZoD+6KJtlrg6hP4A/wHiOHKE/21Mq0Bghoj8gFzaa2yaiPyAHoXFBIaI/DyomVQ1Boj+pThqYcomiP/4J9neWHaI/CKDToLt+oj+rBrXgxn2iP+QRxuizIaI/wb4Ud2hioj/haNJZcCGiPySDIzekf6I/7xYp4KpAoj8CGLHUR5OiPzAp3WW9GKI/be1lafWwoj9uc4wluGqiPySV7LRG1qI/6gKJR7Hjoj8NAh5B3d+iP6zSQHF1iqI/X8HGC6r2oj8rpkY8W46iPybo3pnkKKM/di9OKMXkoj/lV1WKz+WiP+rquyGeUKM/VTYLp4IMoz+FYKPXk8iiP6RhcsBt9qE/GjjwQBAHoj/ONyITawaiP/SrRbVXAqM/R1uPtZ1Hoj/o/ZUa7X+iP1R2iP8qhqI/P6E6sEZ/oj9Ar+kmEhOiP1qRh0hHiKI/RiT94Cleoj/x94zdv4uiP/HE+G3FH6I/yM00lJ1Voj/bk/RWD6CiPwJJKlgmbKI/HmaaEUChoj/rmanjKnmiPyEagXKQMqI/mnvuJk1hoj8Pm2tW9Y+iP1oJDScnHqI/2FI1w36Hoj+stJ2UQY+iP/MlcCrcHKI/bX34qKeGoj+MaCO4cx2iPzBInC5vhaI/J3OM2I9goj8KJ1dLpoKiP+O80l+YFKI/XnoWXVQWoj+w/WUrp9yiP9NjZK+mf6I/Pk0gL+zjoj/7NYfNjE6iP/zgxDUIr6I/ugbHMq6qoj/rTEkUVmajP7OllizWaaI/Htmv3+qtoj8WINxgVECiP/0cZA4mw6I/jxvyx99Koj/mDczJapqiP0CPvU8786I/ewOZQoSHoj8P7oDoXQejPy7DuYNj2qI/Jo+spedOoj/EfJhL3EGiP31Yvcm+VaI/0wVk1j93oj+6Ov3IcBCiP0Ns65h4FqI/JLztaZauoj+yPKFaZrKiPwBU0yXjcaI/tq05JEhqoj8O2ppnn4+iPxqO3FNvMKI/SiaRy4JZoj8IeyTA+4miP/Tor37fTKI/wriqm39yoj+sgE2BGVqiP14rjLblXaI/sBtzJ6VBoj+iAN5fCpuiPx81IGcLyKI/cq4WiVCZoj+crNN8pkWiP51TQ1ntVaI/cC5F+Lpvoj/7ybuHfnuiP40fxwsH4KE/12IPMJ2voj8EpYWNlOaiP3fuxL3mjaI/qQSEd111oj9GmNxDBaKiPwDMNk4GXKI/kX+ob0Qsoj9PR7CZDxKiPzBqXy1M6aI//AT9uvsroj8tqy12SYaiP71SAH0QUqI/EpFH9+8zoj+jBIqh1qSiP4jUjVgmjqI/pxmmWnyNoj+DhTAeqCaiP2jnrBYcp6I/QGFZBuItoj8MsyCggbGiP7lyw3zzg6I/tAd/0eDEoj8VapBaDT2iP8k8ymSkcqI/2U3F1AqSoj/84T2R7L6iPyBx9QUArqI/OxZyuI41oj9G0W4PDy+iP1HwT6mpZ6I/6q9l4vEPoj8PENJnqVyiP1SKEy3lKaI/LQDOEE2Loj95djgkoTuiP6wJiTHWKKI/awzZk1yKoj+UoLQUkFmiP5DIbG62XKI/D2JRj/1Poj87gnfB0o6iP1nnqDLDiKI/FIbKILpOoj/yPeRXoI2iP26V8oDNNqI/BCwGJuWWoj/IV7UymI6iP2eKnBisg6I/VR1rudkioj9Cgz6qenWiP856X5bRPaI/8n/RDr5Aoj+Ixt5RqXqiP2OkuZuzCqI/7t/ub2tzoj+/83LproCiP+t8hm59V6I/nHasSz4xoj9lP9cXA4CiPyeL1HtCfqI/FBI/kI8Moj/aYKsnc3GiP2v4LArea6I/gE1Bgr4Zoj/IZPrCjP6hP8g9kUihgaI/SXcpyCUxoj8oxQcSYZ+iP/Y4wkPneaI/C6NUNf5poj/J/KKPPKeiP8xUPJqNUKI/+n+W2An4oT/uDWFR4gCiPwTs8gHYx6E/6MGeG5KJoj+A9IPlrrahP86OiD36pKI/B11sIq4zoj+5urWafZ6iP7IBUw/UGKI/a1eiSzvpoT/DoZK68eOhP2PqIb5czaA/85jn/ef6oD8iTjHTi7CgP9HaLHQiKaE/ehkTjR6BoD8hShG2XnqgP089JMaRnaA/7HshYB9foD/w3K4JX3egP+R6wm5UKaA/puwMAdcpoD9SBfFWIhugP+3O5CsWP6A/144PG8O0nz8Od16V/B2fP0bBDWCOB6A/iVg3jmcLoD/+duIm+nefPz4mTHPHx54/vGQHBXPrnj+C3rZV4/SeP7Vne2ngOp4/JzIx0IIEnz9ISgNcPwOfP7Jz3z1Tc58/sC8sNxcqnz8ucvqsCteeP755H2b+L58/vymx2V3lnj/cri4xi+6eP9OxFqnRdZ4/+8wjdTwanz/vPKWQfdKeP/n1Mqcu6Z0/IzicLHSRnj/Lz11d8uidP0C6CKTsA58//s2NFwthnz90tI/WNp6eP9QYcH1AVJ8/SNJZhAT6nj9zWO8iXNieP9ReeMFc5Z4/iKw483aGnj/frU46TQuePxa3EwMWO54/4aFVVjynnj+r+ETSOrueP/TyR3I3Jp4/2ALcTiAmnj/Nh1Q3aJyeP6hBEPfeX54/9ODP2e3EnT+SqCbFetSePycBYhOXdJ0/dMN3wejfnT9h2Z7d4BaeP4JUpYTorZ4/6RMCdzblnj+VjdbVfN6dP4jlEWAkx50/cbGeGI6Nnj8fy7UfFuKdPwmoUpIO+p0/XCb3Ms79nT+hmCzn7K2dP5AydWq6h50/Gm+o6HF+nj/FitA4/OCePwv7sAvUDJ8/Qvnjb9gxnj/guSlgFFWeP7ggAVKaZp4/O7MUynDznT+sAP05wY+eP+rxveJltJ0/gYR1WtXinT91B4WPwZydP5YSORD1H54/wYEVbpKMnj9Ej1VbbmieP1CpA57NoZ4/dZ18XsxDnj/1ligPPsyePySZgTtnW54/UEo8jgm+nj+f6lvEaaidP68YuaOhB54/XjH3vhUHnz+U+AwpBxmePyJVGCzPX54/aQooq3HOnT+t4T4V1OidP9HACs9VcZ4/yRopcYNonj/pX9LQYlGePzx+TEGhK54/kOt/5j5xnj8Z2hlfFn2dPwY+BmV9kp0/5PRVkdOpnT+3ZSL2cCOeP0fSaxeWw54/w8OmQOQNnz+eI7C6ONadP9SlL/jVZ58/lMp/pxY1oD8nZqrdYlagPzi7rBaFgKA/u/2bXNPQoD9ybOYh6DmhP3RhA4oFpKE/DpOS+B6toT9izyk3fmWhPyUE3oGfpqI/wY1CE4oKoj8CkFS1CryhP99EvHMXs6E/a1Iu07eHoT81pxZLfNehP8rMDImTVKI/fZ5sqRsSoj+Lab8jKhmiP+uXnG8u+aE/y8k01K8Ooj+S8vIld0yiPx0O/qoRsKI/aFDVsCLOoj8ftlpeFpKjP/+JppSX26I/hiAvQkxxoz/sQfN25dKiP61d7C6db6M/spv4xPtLoz863s/SZm6jP1AeCCp056I/rVw2xX4Zoz8Vwnb0bZOjP+iKOWwrqKI/mfI8LYZPoz9LgLuHU6KiPzjS9DZJzKI/oo9aoiwkoz9HxFiQeGOjPxd4s3vZp6I/Dx7zEeXJoj+7ZazdY1ijP68w/Z+uUqM/ECCcZIH+oj+oUdBxO5yiP5oDUvSqS6M/h3ivrLpfoj93Eas7VvSiP/2tg0esiqI/2tof410Aoz8fQ41xmS2jP031JzbfAKM/Hs4V9Kmwoj96Ay3FPg+iPwUj0q/WOaI/Rec0uVZ0oj+PwapaW4uiP8HF9nZRtqI/EXoyEJJXoj+tjWNehdmiP107goBgM6I/ZJwgGFIUoj8i9+e/lCqhP10MFQj0RqE/kePgat4yoj/39Btq5eOhP4RKReOWlKI/zHVP6r9MoT+yc4ua3gWiP5AUBp34lqE/HJtEAoiloT8UTOMMvlKiP71mCd+k06I/6w7bB66Foj8wqdJ19jCiP+oE5T5B3qE/MeyNB017oT98d2bwh/OhP6gGNK0Ch6I/fTHgSG3GoT8qfNdS7i6iP/wji7neAKI/ZlNaoABjoT8YqO5U37KhP/dbJXp2CqI/MrDVQ/nloT8CSsNRChyiP4jMjtaL56E/RVjkv/PhoT+nnf2kdw6iP6c8Ox+XvKE/Ee+WnhMVoj9WfLZR63aiP2x4DTRTMaI/ScIIxtqDoT+mikWY4niiPzyB4shyiaI/SZczRHQ5oz9AE6xoeaChPxSkWCI9p6I/6I+tyY1+oj9+SBAMLRmjP9UuOyiUs6I//SH9fdBnoj+RIYpDmPOhP4Nw0DhPjKI/roWtNCVmoz8ebe0Kx2OjP1E915gr2qI/cmdCo7fVoj9tk1eWIc6iP3NH2FUyYKM/f3E+eHwSoz+Pr+WoIlajP7LBouqz9qI/IJThWTlToz/6smRpB4mjPyR5vNKGDqM/f40F/BK5oj/MKOSHafSiP4M9BeK+OaM/mUDb5vAsoz9dOajKOFijP81Xvh2vdKM/wE7ukmRgoz/PhEdgjgejP9WNUCHwUqM/wFeAp/Z8oz9YYYm5wLejPyc0lw7ycKM/nyyxWBqAoz9C3/FiZ9+jP1KTZRBjHKQ/wb2UZbYEoz8UAUs3uu2iP1rutHjL1qI/9ByA1qREoz8FWmCW7PujP7vBt+5iJqQ/qCkHp1E4pD/+EZS6PDmjP3Dvtew1G6M/RzDvT299oz+aSrQM3JCjPzqjx35zn6M/5+5fp1gYoz90xj8kXnWjP9WxIAwwU6M/EvCADAbpoz9sSrQHao+jP/6E3EfeoqM/P9uYbdYvoz8jkajRV8+iPzTm2vLKIaM/2+YYwRHeoj/bWdu/c0WjPzEeizpt/qI/mPhynhAcoz/fpGpJXfiiP2kIsk3gE6M/SrS7r8lGoz8N9PmdUdiiP+4LpLvcG6M/W9aa2U/Goj/B9RnmuvSiP5vVTbYE1aI/zEnOrioHoz/5u5LYczKjPz/Q1jmjvKI/IC3yAWvMoj93NOrM6DSiPyPIwy0SvqI/v5cjpHIhoj9s61u+iTCiP7qN4nigr6I/1NBRNlCmoj847a7rRZyiP7IBtdLu46E/PQUowKjCoj9+gmRA2nOiP+MjmEhplKI/W17rqDN6oj9HpUjqTNehP2sG2YEqc6E/lN7LRQqMoT816VbIzH+iPzSAGtzZBKI/HjRrysIPoj9lxnAKi0KiP4D2NMvG2aI/aK5niC2goj/PxGicqt6hP61kskpXiaI/J4FOxwVpoT//VbqpZzehPzN697HVWaI/q+1LbkrXoT+ko4J716yhP5Qv0SO9taE/UrGKN2sioT/qCnfdvoqhP+IWJ/en0qE/nk/dmuudoT//1uFik1eiPw+gfPKXVqI/ufZo3UE5oT+mCNH0w4KhP8bHYljnraE/RMb234vhoT838EN/uSKiP7WXBHBa5aE/iXxut36foj9bdNbqYsWiP4pGlIumz6I/YKT4ArkXoj950q0pwbSiP6v/ymvFTqM/2LhRgvwqoz89s4kn/USiP2pI6ajXyaI/fCUQfM/Voj8CRivhh2SiPyJbfluG7aI/jGCjCB5Ioz8bC8ZnZAOjP2NynPGEF6M/D72yqHNroz+SN4K3aCyjPzTHStYeM6M/x6kZs09Foz+fSpEOrZqjP5Zv8dn3KKM/A9zIQWL0oj94wZrlnRGjPxOd8wF9TaM/dJOJ9b+Aoz9TpEpKGEqjP7P2tpoFRaM/knM+6Gneoj+DQhJGG3ujPynU9D8sC6M/X+EZgvSfoz+C87glhHWjPxslgz/rx6I/Z0a9eERYpD/Aw0VlhMWjPzru9V/Ac6M/JI0fTvgQoz8TDqQTHP6iPw0RFjfTQaM/nG6kyijvoj9bjaWopAajPzqJ4lq0U6M/PJLLqs1Uoz9IzHChrgGjP9CEWNPyOqM/iWyCCOfgoj+QYsfrS5WjP2LLsOEmlKM/63AV5Yz6oj8iaaU4tGqjP1Yv1ql6qqM/9wb3Ylq5oz/6ccTCgCmjP7KZjLcEj6M/wwjav8fZoj/pcG9yxeGjP4H7utlbzaI/bx8SD701oz/bhhPUsnujP8KxOflTsKM/bBfDkz6joz/sXfZ2q1ukP68+wxTLHaM//qaVFSkyoz8CpCZdRBqjPyGjW85hNaM/Toq3qsD6oj8eHcRUVDejPyauihSHFKM/7pAisRrzoj9XhJSnfjWjP0e+u3VHlqI/akFYsyJ+oj+A8rypCNSiP05zxMTPMaI/ZkUL3thuoj9Qe/CA18WhP5eLz+NdlKE/6+LkSXP+oT/m/Clb1UahP3NGVvEOW6E/3HH7SaLBoT/3hahSGi+iP9gzzP+nYqE/sKV2ynaRoT+/NFYDkYmhPyoOFusYeqE/TyNH+7JToT/fafdb4lKhPwnCWlzvn6E/umX3MgnjoD+qICFhlWKhP0DOw88YYKE/wVv/Gh6+oD9SBjv53nShP4Erq+jOwaA/ey7kdF/BoD/XrJKuQYigP7rufOS+laA/l9432nt/oD9JJD/3Mg+fP3Kd2troCp8/OfeNnpceoD+9wiyRsuCeP5kdtNofsp4/PgwCpVN6nz8Ss3Eynh2ePyYNKHEMf6A/w3vP4d++nz/AO1S4Ln2gP1DeMrnwBqA/ikx6jxCUnz89ErXtQZGfP9SVN0lPIKA/UU4rKQfmnz8wsmQCY4qfPwIfqt6JRKA/YLIxK7lvnz+4NsdsZN6fPxT9HpibTKA/qlMa9KNOoD9LCKqz41ugP9iNyHUfOKA/CSPDQBnDoD9UTxefmwmhPzenTZLbDqE/+tnOmzQboD8Oi6g7OV+gP84iJllscqA/Sm4pMFDsoD8sVfX/+S2gP5LP1OEjvaA/7ongJs1KoD8ZKUuc5gKhP5ykOlCDrKA/iIP6A++VoD++O+Qg1QGhPzslkxBBrKE/6XE4YBmJoT/0Hra7aJWhPwB+o3hiEKE/aGWAv6hfoT9kzLKG576hP8IBnztQO6I/Up0A6psOoj+Xuf4sGm6hP44tNhd8h6E/Wrj9rVy5oT8H2QPguVCiP8iBLs9SSKM/nXMHhEcdoz8DJhMe362iPxbIAs1dv6I/hC1Dk9aIoj+o6SQ7POqiP43y14z5r6I/1n6e1bntoj+hlJvlLwqjP58J+fbCvqI/20YoBMcNoz8Uq065zHiiP0XJ1Ro676I/ca459vYzoj8v9y0aJS+jP3qZ97JT2qI/DADFozQAoz8zo+tqdeeiP6pJUn0pCqM/CY60tk0qoz9ROk5aGLGiPwzAKOMOkaI/SrKb3vLMoj8uVoemPuCiP9k1Q6AzCqM/AUJWvG0doz+xyMARf/aiP8zIhGKrxKI/PmkZDvWFoj9zCDmswBiiP18vrn6traI/NwW3KinaoT/1oFesYDiiPyx/fRwOQ6I/4yLABL5loj/heXsWq0OhP8Ozn0JxL6I/qA2mcAL8oT/Yto6QLLehP6OpLWedv6E/m6TEqGLMoT+0B+XFDlKhP7GzqQS4QaE/lRj9mFiuoT9ukw62DFehP7Cy28BFfqE/af0ql5FEoT+fqHwznAehP0XLHwdjQqA//clckJ4yoT+20mwL/EOhPz3RtUWBSqE/+WCfw4nDoD/ylB3SAaGgP9NZhdRrT6A/mPGJxlqcoD/RLY/9xpSfP1jln+qTnJ8/q9A+gv+tnz8bjY2+fAKgP6NXL5BtE6A/2QJflf+8nz/wn5a83QCgP3RC+FtqmJ8/5qW12mvrnz+nbbp20w6gPyOx4sbpnJ8/F4uCtqNqoD95WZuMLeefP0O4jpX9DqA/70Kt6jFUoD+lFKGvaySgP/AA65m7k50/s4OmWCzOnj8jttAMwyefP8bM89jPs54/VRKdO6LDnT/lNChdtWaeP5aHvpxFcZ0/cNEDr5linz/rr3nPpbmeP5BVn+vtN54/g9M5d7CynT+RjVcBUt6dP08DJNidtJ4/btTNEhNXnj/uoVicQLufPxrdEhundZ8/0gSSVtZlnj+2dAVGJzeePyMKy2LvLZ8/AZmJICaZnj8A0N1Gxu+eP7CIHjjI+54/HueIAdDNnj8ZVghEegGgPxinHVRxEZ8/8fRySocMnz8FUPAJOwifP4eUKbFLWqA/lUv0DzPinz/LyY5sLBGgP+Y46USNfKA/UjC/s8ZkoD9yx5Qx0IGgP7EPeAlkS6A/o9zHXcVeoD/aBUg2+QahPxvPNRNlo6A/brFuS9AZoT/rtv92kAmhPzSm0ULBfaA/lLL0bOZKoD+EeCBV6VqgP8WoyuVQ8aA/pxsUra+QoD9hp6ZCyJ+gPw4gsDg4JaE/ySZ2XfMXoT9jy77skNegP2vdiAwNdKA/dvrMcCQvoT9joANJMumgP541bappgKA/cyx2ofoNoT/otBh4cG6hP51qli6JRKE/CWw5WuIfoT+OImyK8OmgP3q0DUmwiaE/D3iQDahdoT8FPmi3pkuhPw0AvB23h6E/eSex8roYoT9dUUO44WuhP5NY6CozLKE/iUjc5DguoT/22CYxTa6hPzXUbzLD1qE/PJzUz7VvoT8Pg1x8ImCiP8h4BFyjaKE/jI+kUbqFoT8dgcEQuhOhP+/2Go8r0KE/aFjT6wG4oT9DmLv12YGhP/3Q8G70d6E/Ba4A74F1oT9F2yARPnChP4bCs5uZOKE/4C88cAd3oT8PITmzonmhP04KxSzFXaE/+FXATViOoT95f6HXhhKhP6RzZgow2qA/uFqAA5Q6oD8ylPn18wOhP1kY/L13z6A/iV0rMgd5oD9sHL6nUjSgP+MuIK9k2J8/ONhCSfIsoT+T9LHnxD6gP1mrHML5858/BHX2jGcdoD+VYhluDxKgP7j5zMu8pp8/UXBBR2mGnz9RGv/sJAKfP8yoLL0B0J8/SFKGYjnmnj9LmL1AWBidP34eyVt0R58/MT/H0OtMnz/ITDIIWUmfP7LZ4lUKfJ4/eQ4QAeTSnT97Nv46jIqfP7FDU3MGVZ0/H989F3e0nT9g7OLg23GeP9NaTc1e1Z0/Dm1rIvfAnT+IhOILuE6dP+2bw9n2E50/aCAbBD/7nD8A1OxLkXGcPyu78ANRW5w/QlXvb7wAnD+tK7C645KbP3otJM0PVps/llnyNuAfmz8Auqs+SfybPyR6UajSB5w/3qHPHYGPmz+7AgGHdqKbP8tD9oY/npw/N+61RBQMnD+mON2Qye+aPwSmEN30yJs/iDjlA4rEnT9KQOD2WLObPxDEsJTH3Zw/MuPBtIpQnD88Lh7U3wmcP32vk5Id6J0/Ou1ApAsSnD9KkWVJ936bP3YT8SaqiJw/a3TxD+ZMnD/kvOgVuWidP5YgMlxyRZ0/OGhMxvQCnT+bZwWeTWudPxKQLMzq350/WGNdlwM8nj9/7iyeNTOeP82zZbVLoJ4/j+szXfDSnT9f05xpyHucP2KmfoCpa54/gYbhyEeOnT99vJa88sieP8KHDRTkUp4/q5EWBPOvnj+xUuueOD6eP2SOuiBp3Z4/alPQtGHHnj+zH3fe9lWfP4UYvAszJJ4/FqoBj/1onj+hIDXyFZSeP5I8AmDSa54/MiXJl4Qtnj/eWl+WdJ2eP2ptrdJGEaA/g+tKhFlonz+s8lFz8ROgP4iHnV7Gk54/rMKj2CwYnj8twk2xkiqfP4dHDEwFX6A/yoOhXRRknz8w/fAoFsefP5JT4OxMaKA/kIwjSdJDoD8qmDlIklegP5np79UOFqA/9JewERc4nz+sVhLmzWGdP2JWkO7MOJ0/8GJBqIdanD83c1pLJUKcPzwwPJ5rNJs/Zw/5kidLmz+78e/SA0ubP5HtsP1ZO5o/7IPZl0pxmT8AAAAAAAD4fwAAAAAAAPh/AAAAAAAA+H8AAAAAAAD4fwAAAAAAAPh/AAAAAAAA+H8AAAAAAAD4fwAAAAAAAPh/AAAAAAAA+H8AAAAAAAD4fwAAAAAAAPh/AAAAAAAA+H8AAAAAAAD4fwAAAAAAAPh/AAAAAAAA+H8AAAAAAAD4fwAAAAAAAPh/AAAAAAAA+H8AAAAAAAD4fwAAAAAAAPh/AAAAAAAA+H8AAAAAAAD4fwAAAAAAAPh/AAAAAAAA+H8AAAAAAAD4fwAAAAAAAPh/AAAAAAAA+H8AAAAAAAD4fwAAAAAAAPh/AAAAAAAA+H8AAAAAAAD4fwAAAAAAAPh/AAAAAAAA+H8=",
          "dtype": "f8"
         },
         "yaxis": "y2"
        },
        {
         "hovertemplate": "<b>MHD Amplitude</b><br>Time: %{x:.4f} s<br>Value: %{y:.6f}<extra></extra>",
         "line": {
          "color": "#2ca02c",
          "width": 2
         },
         "mode": "lines",
         "name": "MHD Amplitude",
         "type": "scatter",
         "x": {
          "bdata": "PQrXo3A93j/pAbELC1zeP5X5inOlet4/QvFk2z+Z3j/u6D5D2rfeP5rgGKt01t4/RtjyEg/13j/yz8x6qRPfP5/HpuJDMt8/S7+ASt5Q3z/3tlqyeG/fP6OuNBoTjt8/UKYOgq2s3z/8nejpR8vfP6iVwlHi6d8/qkbOXD4E4D+AQruQixPgP1Y+qMTYIuA/LDqV+CUy4D8CNoIsc0HgP9kxb2DAUOA/ry1clA1g4D+FKUnIWm/gP1slNvynfuA/MSEjMPWN4D8HHRBkQp3gP90Y/ZePrOA/sxTqy9y74D+JENf/KcvgP2AMxDN32uA/NgixZ8Tp4D8MBJ6bEfngP+L/is9eCOE/uPt3A6wX4T+O92Q3+SbhP2TzUWtGNuE/Ou8+n5NF4T8Q6yvT4FThP+bmGAcuZOE/vOIFO3tz4T+T3vJuyILhP2na36IVkuE/P9bM1mKh4T8V0rkKsLDhP+vNpj79v+E/wcmTckrP4T+XxYCml97hP23Bbdrk7eE/RL1aDjL94T8auUdCfwziP/C0NHbMG+I/xrAhqhkr4j+crA7eZjriP3Ko+xG0SeI/SKToRQFZ4j8eoNV5TmjiP/Sbwq2bd+I/ypev4eiG4j+gk5wVNpbiP3ePiUmDpeI/TYt2fdC04j8jh2OxHcTiP/mCUOVq0+I/z349Gbji4j+leipNBfLiP3t2F4FSAeM/UXIEtZ8Q4z8obvHo7B/jP/5p3hw6L+M/1GXLUIc+4z+qYbiE1E3jP4BdpbghXeM/VlmS7G5s4z8sVX8gvHvjPwJRbFQJi+M/2ExZiFaa4z+uSEa8o6njP4REM/DwuOM/WkAgJD7I4z8xPA1Yi9fjPwc4+ovY5uM/3TPnvyX24z+zL9TzcgXkP4krwSfAFOQ/XyeuWw0k5D81I5uPWjPkPwwfiMOnQuQ/4hp19/RR5D+4FmIrQmHkP44ST1+PcOQ/ZA48k9x/5D86CinHKY/kPxAGFvt2nuQ/5gEDL8St5D+8/e9iEb3kP5L53JZezOQ/aPXJyqvb5D8+8bb++OrkPxXtozJG+uQ/6+iQZpMJ5T/B5H2a4BjlP5fgas4tKOU/bdxXAns35T9D2EQ2yEblPxnUMWoVVuU/788enmJl5T/GywvSr3TlP5zH+AX9g+U/csPlOUqT5T9Iv9Jtl6LlPx67v6HkseU/9Las1THB5T/KspkJf9DlP6Cuhj3M3+U/dqpzcRnv5T9MpmClZv7lPyKiTdmzDeY/+J06DQEd5j/PmSdBTizmP6WVFHWbO+Y/e5EBqehK5j9Rje7cNVrmPyeJ2xCDaeY//YTIRNB45j/TgLV4HYjmP6p8oqxql+Y/gHiP4Lem5j9WdHwUBbbmPyxwaUhSxeY/AmxWfJ/U5j/YZ0Ow7OPmP65jMOQ58+Y/hF8dGIcC5z9aWwpM1BHnPzBX938hIec/BlPks24w5z/cTtHnuz/nP7JKvhsJT+c/iUarT1Ze5z9fQpiDo23nPzU+hbfwfOc/Czpy6z2M5z/hNV8fi5vnP7gxTFPYquc/ji05hyW65z9kKSa7csnnPzolE++/2Oc/ECEAIw3o5z/mHO1WWvfnP7wY2oqnBug/khTHvvQV6D9oELTyQSXoPz4MoSaPNOg/FAiOWtxD6D/qA3uOKVPoP8D/Z8J2Yug/lvtU9sNx6D9t90EqEYHoP0PzLl5ekOg/Ge8bkquf6D/v6gjG+K7oP8Xm9flFvug/nOLiLZPN6D9y3s9h4NzoP0javJUt7Og/HtapyXr76D/00Zb9xwrpP8rNgzEVGuk/oMlwZWIp6T92xV2ZrzjpP0zBSs38R+k/Ir03AUpX6T/4uCQ1l2bpP860EWnkdek/pLD+nDGF6T96rOvQfpTpP1Co2ATMo+k/J6TFOBmz6T/9n7JsZsLpP9Obn6Cz0ek/qZeM1ADh6T9/k3kITvDpP1aPZjyb/+k/LItTcOgO6j8Ch0CkNR7qP9iCLdiCLeo/rn4aDNA86j+EegdAHUzqP1p29HNqW+o/MHLhp7dq6j8Gbs7bBHrqP9xpuw9Sieo/smWoQ5+Y6j+IYZV37KfqP15dgqs5t+o/NFlv34bG6j8LVVwT1NXqP+FQSUch5eo/t0w2e2706j+NSCOvuwPrP2NEEOMIE+s/OkD9FlYi6z8QPOpKozHrP+Y3137wQOs/vDPEsj1Q6z+SL7Hmil/rP2grnhrYbus/PieLTiV+6z8UI3iCco3rP+oeZba/nOs/wBpS6gys6z+WFj8eWrvrP2wSLFKnyus/Qg4ZhvTZ6z8YCga6QenrP+8F8+2O+Os/xQHgIdwH7D+b/cxVKRfsP3H5uYl2Juw/R/WmvcM17D8e8ZPxEEXsP/TsgCVeVOw/yuhtWatj7D+g5FqN+HLsP3bgR8FFguw/TNw09ZKR7D8i2CEp4KDsP/jTDl0tsOw/zs/7kHq/7D+ky+jEx87sP3rH1fgU3uw/UMPCLGLt7D8mv69gr/zsP/y6nJT8C+0/0raJyEkb7T+psnb8lirtP3+uYzDkOe0/VapQZDFJ7T8rpj2YfljtPwGiKszLZ+0/2J0XABl37T+umQQ0ZobtP4SV8Wezle0/WpHemwCl7T8wjcvPTbTtPwaJuAObw+0/3ISlN+jS7T+ygJJrNeLtP4h8f5+C8e0/Xnhs088A7j80dFkHHRDuPwpwRjtqH+4/4Gszb7cu7j+2ZyCjBD7uP41jDddRTe4/Y1/6Cp9c7j85W+c+7GvuPw9X1HI5e+4/5VLBpoaK7j+8Tq7a05nuP5JKmw4hqe4/aEaIQm647j8+QnV2u8fuPxQ+YqoI1+4/6jlP3lXm7j/ANTwSo/XuP5YxKUbwBO8/bC0Wej0U7z9CKQOuiiPvPxgl8OHXMu8/7iDdFSVC7z/EHMpJclHvP5oYt32/YO8/cBSksQxw7z9GEJHlWX/vPxwMfhmnju8/9AdrTfSd7z/KA1iBQa3vP6D/RLWOvO8/dvsx6dvL7z9M9x4dKdvvPyLzC1F26u8/+O74hMP57z9n9XJciATwP1JzafYuDPA/PfFfkNUT8D8ob1YqfBvwPxPtTMQiI/A//mpDXskq8D/p6Dn4bzLwP9RmMJIWOvA/v+QmLL1B8D+qYh3GY0nwP5XgE2AKUfA/gF4K+rBY8D9s3ACUV2DwP1da9y3+Z/A/Qtjtx6Rv8D8tVuRhS3fwPxjU2vvxfvA/A1LRlZiG8D/uz8cvP47wP9lNvsnllfA/xMu0Y4yd8D+vSav9MqXwP5rHoZfZrPA/hUWYMYC08D9ww47LJrzwP1tBhWXNw/A/Rr97/3PL8D8xPXKZGtPwPxy7aDPB2vA/BzlfzWfi8D/ytlVnDurwP940TAG18fA/ybJCm1v58D+0MDk1AgHxP5+uL8+oCPE/iiwmaU8Q8T91qhwD9hfxP2AoE52cH/E/S6YJN0Mn8T82JADR6S7xPyGi9mqQNvE/DCDtBDc+8T/3neOe3UXxP+Ib2jiETfE/zZnQ0ipV8T+4F8ds0VzxP6OVvQZ4ZPE/jhO0oB5s8T95kao6xXPxP2QPodRre/E/T42XbhKD8T87C44IuYrxPyaJhKJfkvE/EQd7PAaa8T/8hHHWrKHxP+cCaHBTqfE/0oBeCvqw8T+9/lSkoLjxP6h8Sz5HwPE/k/pB2O3H8T9+eDhylM/xP2n2Lgw71/E/VHQlpuHe8T8/8htAiObxPypwEtou7vE/Fe4IdNX18T8AbP8NfP3xP+vp9aciBfI/1mfsQckM8j/B5eLbbxTyP61j2XUWHPI/mOHPD70j8j+DX8apYyvyP27dvEMKM/I/WVuz3bA68j9E2al3V0LyPy9XoBH+SfI/GtWWq6RR8j8FU41FS1nyP/DQg9/xYPI/2056eZho8j/GzHATP3DyP7FKZ63ld/I/nMhdR4x/8j+HRlThMofyP3LESnvZjvI/XUJBFYCW8j9IwDevJp7yPzM+LknNpfI/H7wk43Ot8j8KOht9GrXyP/W3ERfBvPI/4DUIsWfE8j/Ls/5KDszyP7Yx9eS00/I/oa/rflvb8j+MLeIYAuPyP3er2LKo6vI/YinPTE/y8j9Np8Xm9fnyPzglvICcAfM/I6OyGkMJ8z8OIam06RDzP/men06QGPM/5ByW6DYg8z/PmoyC3SfzP7oYgxyEL/M/pZZ5tio38z+QFHBQ0T7zP3ySZup3RvM/ZxBdhB5O8z9SjlMexVXzPz0MSrhrXfM/KIpAUhJl8z8TCDfsuGzzP/6FLYZfdPM/6QMkIAZ88z/UgRq6rIPzP7//EFRTi/M/qn0H7vmS8z+V+/2HoJrzP4B59CFHovM/a/fqu+2p8z9WdeFVlLHzP0Hz1+86ufM/LHHOieHA8z8X78QjiMjzPwJtu70u0PM/7uqxV9XX8z/ZaKjxe9/zP8Tmnosi5/M/r2SVJcnu8z+a4ou/b/bzP4VgglkW/vM/cN5487wF9D9bXG+NYw30P0baZScKFfQ/MVhcwbAc9D8c1lJbVyT0PwdUSfX9K/Q/8tE/j6Qz9D/dTzYpSzv0P8jNLMPxQvQ/s0sjXZhK9D+eyRn3PlL0P4lHEJHlWfQ/dMUGK4xh9D9gQ/3EMmn0P0vB817ZcPQ/Nj/q+H949D8hveCSJoD0Pww71yzNh/Q/97jNxnOP9D/iNsRgGpf0P820uvrAnvQ/uDKxlGem9D+jsKcuDq70P44unsi0tfQ/eayUYlu99D9kKov8AcX0P0+ogZaozPQ/OiZ4ME/U9D8lpG7K9dv0PxAiZWSc4/Q/+59b/kLr9D/mHVKY6fL0P9GbSDKQ+vQ/vRk/zDYC9T+olzVm3Qn1P5MVLACEEfU/fpMimioZ9T9pERk00SD1P1SPD853KPU/Pw0GaB4w9T8qi/wBxTf1PxUJ85trP/U/AIfpNRJH9T/rBODPuE71P9aC1mlfVvU/wQDNAwZe9T+sfsOdrGX1P5f8uTdTbfU/gnqw0fl09T9t+KZroHz1P1h2nQVHhPU/Q/STn+2L9T8vcoo5lJP1PxrwgNM6m/U/BW53beGi9T/w620HiKr1P9tpZKEusvU/xudaO9W59T+xZVHVe8H1P5zjR28iyfU/h2E+CcnQ9T9y3zSjb9j1P11dKz0W4PU/SNsh17zn9T8zWRhxY+/1Px7XDgsK9/U/CVUFpbD+9T/00vs+Vwb2P99Q8tj9DfY/ys7ocqQV9j+1TN8MSx32P6HK1abxJPY/jEjMQJgs9j93xsLaPjT2P2JEuXTlO/Y/TcKvDoxD9j84QKaoMkv2PyO+nELZUvY/DjyT3H9a9j/5uYl2JmL2P+Q3gBDNafY/z7V2qnNx9j+6M21EGnn2P6WxY97AgPY/kC9aeGeI9j97rVASDpD2P2YrR6y0l/Y/Uak9Rluf9j88JzTgAaf2PyelKnqorvY/EiMhFE+29j/+oBeu9b32P+keDkicxfY/1JwE4kLN9j+/Gvt76dT2P6qY8RWQ3PY/lRborzbk9j+AlN5J3ev2P2sS1eOD8/Y/VpDLfSr79j9BDsIX0QL3PyyMuLF3Cvc/FwqvSx4S9z8CiKXlxBn3P+0FnH9rIfc/2IOSGRIp9z/DAYmzuDD3P65/f01fOPc/mf115wVA9z+Ee2yBrEf3P3D5YhtTT/c/W3dZtflW9z9G9U9PoF73PzFzRulGZvc/HPE8g+1t9z8HbzMdlHX3P/LsKbc6ffc/3WogUeGE9z/I6Bbrh4z3P7NmDYUulPc/nuQDH9Wb9z+JYvq4e6P3P3Tg8FIiq/c/X17n7Miy9z9K3N2Gb7r3PzVa1CAWwvc/INjKurzJ9z8LVsFUY9H3P/bTt+4J2fc/4VGuiLDg9z/Mz6QiV+j3P7dNm7z97/c/osuRVqT39z+NSYjwSv/3P3nHforxBvg/ZEV1JJgO+D9Pw2u+Phb4PzpBYljlHfg/Jb9Y8osl+D8QPU+MMi34P/u6RSbZNPg/5jg8wH88+D/RtjJaJkT4P7w0KfTMS/g/p7IfjnNT+D+SMBYoGlv4P32uDMLAYvg/aCwDXGdq+D9Tqvn1DXL4Pz4o8I+0efg/KabmKVuB+D8UJN3DAYn4P/+h012okPg/6x/K906Y+D/WncCR9Z/4P8Ebtyucp/g/rJmtxUKv+D+XF6Rf6bb4P4KVmvmPvvg/bRORkzbG+D9YkYct3c34P0MPfseD1fg/Lo10YSrd+D8ZC2v70OT4PwSJYZV37Pg/7wZYLx70+D/ahE7JxPv4P8UCRWNrA/k/sIA7/REL+T+b/jGXuBL5P4Z8KDFfGvk/cfoeywUi+T9ceBVlrCn5P0j2C/9SMfk/M3QCmfk4+T8e8vgyoED5Pwlw78xGSPk/9O3lZu1P+T/fa9wAlFf5P8rp0po6X/k/tWfJNOFm+T+g5b/Oh275P4tjtmgudvk/duGsAtV9+T9hX6Oce4X5P0zdmTYijfk/N1uQ0MiU+T8i2YZqb5z5Pw1XfQQWpPk/+NRznryr+T/jUmo4Y7P5P87QYNIJu/k/uk5XbLDC+T+lzE0GV8r5P5BKRKD90fk/e8g6OqTZ+T9mRjHUSuH5P1HEJ27x6Pk/PEIeCJjw+T8nwBSiPvj5PxI+Czzl//k//bsB1osH+j/oOfhvMg/6P9O37gnZFvo/vjXlo38e+j+ps9s9Jib6P5Qx0tfMLfo/f6/IcXM1+j9qLb8LGj36P1WrtaXARPo/QCmsP2dM+j8sp6LZDVT6PxclmXO0W/o/AqOPDVtj+j/tIIanAWv6P9iefEGocvo/wxxz2056+j+umml19YH6P5kYYA+cifo/hJZWqUKR+j9vFE1D6Zj6P1qSQ92PoPo/RRA6dzao+j8wjjAR3a/6PxsMJ6uDt/o/BoodRSq/+j/xBxTf0Mb6P9yFCnl3zvo/xwMBEx7W+j+ygfesxN36P53/7UZr5fo/iX3k4BHt+j90+9p6uPT6P1950RRf/Po/SvfHrgUE+z81db5IrAv7PyDztOJSE/s/C3GrfPka+z/27qEWoCL7P+FsmLBGKvs/zOqOSu0x+z+3aIXkkzn7P6Lme346Qfs/jWRyGOFI+z944miyh1D7P2NgX0wuWPs/Tt5V5tRf+z85XEyAe2f7PyTaQhoib/s/D1g5tMh2+z/71S9Ob377P+ZTJugVhvs/0dEcgryN+z+8TxMcY5X7P6fNCbYJnfs/kksAULCk+z99yfbpVqz7P2hH7YP9s/s/U8XjHaS7+z8+Q9q3SsP7PynB0FHxyvs/FD/H65fS+z//vL2FPtr7P+o6tB/l4fs/1biquYvp+z/ANqFTMvH7P6u0l+3Y+Ps/ljKOh38A/D+BsIQhJgj8P20ue7vMD/w/WKxxVXMX/D9DKmjvGR/8Py6oXonAJvw/GSZVI2cu/D8EpEu9DTb8P+8hQle0Pfw/2p848VpF/D/FHS+LAU38P7CbJSWoVPw/mxkcv05c/D+GlxJZ9WP8P3EVCfOba/w/XJP/jEJz/D9HEfYm6Xr8PzKP7MCPgvw/HQ3jWjaK/D8Ii9n03JH8P/MI0I6Dmfw/3obGKCqh/D/KBL3C0Kj8P7WCs1x3sPw/oACq9h24/D+LfqCQxL/8P3b8liprx/w/YXqNxBHP/D9M+INeuNb8Pzd2evhe3vw/IvRwkgXm/D8NcmcsrO38P/jvXcZS9fw/421UYPn8/D/O60r6nwT9P7lpQZRGDP0/pOc3Lu0T/T+PZS7Ikxv9P3rjJGI6I/0/ZWEb/OAq/T9Q3xGWhzL9PzxdCDAuOv0/J9v+ydRB/T8SWfVje0n9P/3W6/0hUf0/6FTil8hY/T/T0tgxb2D9P75Qz8sVaP0/qc7FZbxv/T+UTLz/Ynf9P3/KspkJf/0/akipM7CG/T9Vxp/NVo79P0BElmf9lf0/K8KMAaSd/T8WQIObSqX9PwG+eTXxrP0/7Dtwz5e0/T/XuWZpPrz9P8I3XQPlw/0/rrVTnYvL/T+ZM0o3MtP9P4SxQNHY2v0/by83a3/i/T9arS0FJur9P0UrJJ/M8f0/MKkaOXP5/T8bJxHTGQH+PwalB23ACP4/8SL+BmcQ/j/coPSgDRj+P8ce6zq0H/4/spzh1Fon/j+dGthuAS/+P4iYzgioNv4/cxbFok4+/j9elLs89UX+P0kSstabTf4/NJCocEJV/j8fDp8K6Vz+PwuMlaSPZP4/9gmMPjZs/j/hh4LY3HP+P8wFeXKDe/4/t4NvDCqD/j+iAWam0Ir+P41/XEB3kv4/eP1S2h2a/j9je0l0xKH+P075Pw5rqf4/OXc2qBGx/j8k9SxCuLj+Pw9zI9xewP4/+vAZdgXI/j/lbhAQrM/+P9DsBqpS1/4/u2r9Q/ne/j+m6PPdn+b+P5Fm6ndG7v4/feTgEe31/j9oYterk/3+P1PgzUU6Bf8/Pl7E3+AM/z8p3Lp5hxT/PxRasRMuHP8//9enrdQj/z/qVZ5Heyv/P9XTlOEhM/8/wFGLe8g6/z+rz4EVb0L/P5ZNeK8VSv8/gctuSbxR/z9sSWXjYln/P1fHW30JYf8/QkVSF7Bo/z8tw0ixVnD/PxhBP0v9d/8/A7815aN//z/vPCx/Sof/P9q6Ihnxjv8/xTgZs5eW/z+wtg9NPp7/P5s0Bufkpf8/hrL8gIut/z9xMPMaMrX/P1yu6bTYvP8/RyzgTn/E/z8yqtboJcz/Px0ozYLM0/8/CKbDHHPb/z/zI7q2GeP/P96hsFDA6v8/yR+n6mby/z+0nZ2EDfr/P9ANSg/aAABAxUxFXK0EAEC7i0CpgAgAQLDKO/ZTDABApgk3QycQAECcSDKQ+hMAQJGHLd3NFwBAh8YoKqEbAEB8BSR3dB8AQHJEH8RHIwBAZ4MaERsnAEBdwhVe7ioAQFIBEavBLgBASEAM+JQyAEA9fwdFaDYAQDO+ApI7OgBAKP393g4+AEAePPkr4kEAQBN79Hi1RQBACbrvxYhJAED++OoSXE0AQPQ35l8vUQBA6XbhrAJVAEDftdz51VgAQNX010apXABAyjPTk3xgAEDAcs7gT2QAQLWxyS0jaABAq/DEevZrAECgL8DHyW8AQJZuuxSdcwBAi622YXB3AECB7LGuQ3sAQHYrrfsWfwBAbGqoSOqCAEBhqaOVvYYAQFfonuKQigBATCeaL2SOAEBCZpV8N5IAQDelkMkKlgBALeSLFt6ZAEAiI4djsZ0AQBhigrCEoQBADqF9/VelAEAD4HhKK6kAQPkedJf+rABA7l1v5NGwAEDknGoxpbQAQNnbZX54uABAzxphy0u8AEDEWVwYH8AAQLqYV2XywwBAr9dSssXHAEClFk7/mMsAQJpVSUxszwBAkJREmT/TAECF0z/mEtcAQHsSOzPm2gBAcFE2gLneAEBmkDHNjOIAQFvPLBpg5gBAUQ4oZzPqAEBHTSO0Bu4AQDyMHgHa8QBAMssZTq31AEAnChWbgPkAQB1JEOhT/QBAEogLNScBAUAIxwaC+gQBQP0FAs/NCAFA80T9G6EMAUDog/hodBABQN7C87VHFAFA0wHvAhsYAUDJQOpP7hsBQL5/5ZzBHwFAtL7g6ZQjAUCp/ds2aCcBQJ8814M7KwFAlHvS0A4vAUCKus0d4jIBQID5yGq1NgFAdTjEt4g6AUBrd78EXD4BQGC2ulEvQgFAVvW1ngJGAUBLNLHr1UkBQEFzrDipTQFANrKnhXxRAUAs8aLST1UBQCEwnh8jWQFAF2+ZbPZcAUAMrpS5yWABQALtjwadZAFA9yuLU3BoAUDtaoagQ2wBQOKpge0WcAFA2Oh8OupzAUDNJ3iHvXcBQMNmc9SQewFAuaVuIWR/AUCu5GluN4MBQKQjZbsKhwFAmWJgCN6KAUCPoVtVsY4BQITgVqKEkgFAeh9S71eWAUBvXk08K5oBQGWdSIn+nQFAWtxD1tGhAUBQGz8jpaUBQEVaOnB4qQFAO5k1vUutAUAw2DAKH7EBQCYXLFfytAFAG1YnpMW4AUARlSLxmLwBQAbUHT5swAFA/BIZiz/EAUDxURTYEsgBQOeQDyXmywFA3c8KcrnPAUDSDga/jNMBQMhNAQxg1wFAvYz8WDPbAUCzy/elBt8BQKgK8/LZ4gFAnknuP63mAUCTiOmMgOoBQInH5NlT7gFAfgbgJifyAUB0Rdtz+vUBQGmE1sDN+QFAX8PRDaH9AUBUAs1adAECQEpByKdHBQJAP4DD9BoJAkA1v75B7gwCQCr+uY7BEAJAID2125QUAkAWfLAoaBgCQAu7q3U7HAJAAfqmwg4gAkD2OKIP4iMCQOx3nVy1JwJA4baYqYgrAkDX9ZP2Wy8CQMw0j0MvMwJAwnOKkAI3AkC3soXd1ToCQK3xgCqpPgJAojB8d3xCAkCYb3fET0YCQI2uchEjSgJAg+1tXvZNAkB4LGmryVECQG5rZPicVQJAY6pfRXBZAkBZ6VqSQ10CQE8oVt8WYQJARGdRLOpkAkA6pkx5vWgCQC/lR8aQbAJAJSRDE2RwAkAaYz5gN3QCQBCiOa0KeAJABeE0+t17AkD7HzBHsX8CQPBeK5SEgwJA5p0m4VeHAkDb3CEuK4sCQNEbHXv+jgJAxloYyNGSAkC8mRMVpZYCQLHYDmJ4mgJApxcKr0ueAkCcVgX8HqICQJKVAEnypQJAiNT7lcWpAkB9E/fimK0CQHNS8i9ssQJAaJHtfD+1AkA=",
          "dtype": "f8"
         },
         "xaxis": "x3",
         "y": {
          "bdata": "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",
          "dtype": "f8"
         },
         "yaxis": "y3"
        }
       ],
       "layout": {
        "annotations": [
         {
          "font": {
           "size": 16
          },
          "showarrow": false,
          "text": "ASTRA q-profile",
          "x": 0.5,
          "xanchor": "center",
          "xref": "paper",
          "y": 1,
          "yanchor": "bottom",
          "yref": "paper"
         },
         {
          "font": {
           "size": 16
          },
          "showarrow": false,
          "text": "Width",
          "x": 0.5,
          "xanchor": "center",
          "xref": "paper",
          "y": 0.6399999999999999,
          "yanchor": "bottom",
          "yref": "paper"
         },
         {
          "font": {
           "size": 16
          },
          "showarrow": false,
          "text": "MHD Amplitude",
          "x": 0.5,
          "xanchor": "center",
          "xref": "paper",
          "y": 0.27999999999999997,
          "yanchor": "bottom",
          "yref": "paper"
         }
        ],
        "height": 800,
        "hovermode": "x unified",
        "showlegend": true,
        "template": {
         "data": {
          "bar": [
           {
            "error_x": {
             "color": "#2a3f5f"
            },
            "error_y": {
             "color": "#2a3f5f"
            },
            "marker": {
             "line": {
              "color": "#E5ECF6",
              "width": 0.5
             },
             "pattern": {
              "fillmode": "overlay",
              "size": 10,
              "solidity": 0.2
             }
            },
            "type": "bar"
           }
          ],
          "barpolar": [
           {
            "marker": {
             "line": {
              "color": "#E5ECF6",
              "width": 0.5
             },
             "pattern": {
              "fillmode": "overlay",
              "size": 10,
              "solidity": 0.2
             }
            },
            "type": "barpolar"
           }
          ],
          "carpet": [
           {
            "aaxis": {
             "endlinecolor": "#2a3f5f",
             "gridcolor": "white",
             "linecolor": "white",
             "minorgridcolor": "white",
             "startlinecolor": "#2a3f5f"
            },
            "baxis": {
             "endlinecolor": "#2a3f5f",
             "gridcolor": "white",
             "linecolor": "white",
             "minorgridcolor": "white",
             "startlinecolor": "#2a3f5f"
            },
            "type": "carpet"
           }
          ],
          "choropleth": [
           {
            "colorbar": {
             "outlinewidth": 0,
             "ticks": ""
            },
            "type": "choropleth"
           }
          ],
          "contour": [
           {
            "colorbar": {
             "outlinewidth": 0,
             "ticks": ""
            },
            "colorscale": [
             [
              0,
              "#0d0887"
             ],
             [
              0.1111111111111111,
              "#46039f"
             ],
             [
              0.2222222222222222,
              "#7201a8"
             ],
             [
              0.3333333333333333,
              "#9c179e"
             ],
             [
              0.4444444444444444,
              "#bd3786"
             ],
             [
              0.5555555555555556,
              "#d8576b"
             ],
             [
              0.6666666666666666,
              "#ed7953"
             ],
             [
              0.7777777777777778,
              "#fb9f3a"
             ],
             [
              0.8888888888888888,
              "#fdca26"
             ],
             [
              1,
              "#f0f921"
             ]
            ],
            "type": "contour"
           }
          ],
          "contourcarpet": [
           {
            "colorbar": {
             "outlinewidth": 0,
             "ticks": ""
            },
            "type": "contourcarpet"
           }
          ],
          "heatmap": [
           {
            "colorbar": {
             "outlinewidth": 0,
             "ticks": ""
            },
            "colorscale": [
             [
              0,
              "#0d0887"
             ],
             [
              0.1111111111111111,
              "#46039f"
             ],
             [
              0.2222222222222222,
              "#7201a8"
             ],
             [
              0.3333333333333333,
              "#9c179e"
             ],
             [
              0.4444444444444444,
              "#bd3786"
             ],
             [
              0.5555555555555556,
              "#d8576b"
             ],
             [
              0.6666666666666666,
              "#ed7953"
             ],
             [
              0.7777777777777778,
              "#fb9f3a"
             ],
             [
              0.8888888888888888,
              "#fdca26"
             ],
             [
              1,
              "#f0f921"
             ]
            ],
            "type": "heatmap"
           }
          ],
          "histogram": [
           {
            "marker": {
             "pattern": {
              "fillmode": "overlay",
              "size": 10,
              "solidity": 0.2
             }
            },
            "type": "histogram"
           }
          ],
          "histogram2d": [
           {
            "colorbar": {
             "outlinewidth": 0,
             "ticks": ""
            },
            "colorscale": [
             [
              0,
              "#0d0887"
             ],
             [
              0.1111111111111111,
              "#46039f"
             ],
             [
              0.2222222222222222,
              "#7201a8"
             ],
             [
              0.3333333333333333,
              "#9c179e"
             ],
             [
              0.4444444444444444,
              "#bd3786"
             ],
             [
              0.5555555555555556,
              "#d8576b"
             ],
             [
              0.6666666666666666,
              "#ed7953"
             ],
             [
              0.7777777777777778,
              "#fb9f3a"
             ],
             [
              0.8888888888888888,
              "#fdca26"
             ],
             [
              1,
              "#f0f921"
             ]
            ],
            "type": "histogram2d"
           }
          ],
          "histogram2dcontour": [
           {
            "colorbar": {
             "outlinewidth": 0,
             "ticks": ""
            },
            "colorscale": [
             [
              0,
              "#0d0887"
             ],
             [
              0.1111111111111111,
              "#46039f"
             ],
             [
              0.2222222222222222,
              "#7201a8"
             ],
             [
              0.3333333333333333,
              "#9c179e"
             ],
             [
              0.4444444444444444,
              "#bd3786"
             ],
             [
              0.5555555555555556,
              "#d8576b"
             ],
             [
              0.6666666666666666,
              "#ed7953"
             ],
             [
              0.7777777777777778,
              "#fb9f3a"
             ],
             [
              0.8888888888888888,
              "#fdca26"
             ],
             [
              1,
              "#f0f921"
             ]
            ],
            "type": "histogram2dcontour"
           }
          ],
          "mesh3d": [
           {
            "colorbar": {
             "outlinewidth": 0,
             "ticks": ""
            },
            "type": "mesh3d"
           }
          ],
          "parcoords": [
           {
            "line": {
             "colorbar": {
              "outlinewidth": 0,
              "ticks": ""
             }
            },
            "type": "parcoords"
           }
          ],
          "pie": [
           {
            "automargin": true,
            "type": "pie"
           }
          ],
          "scatter": [
           {
            "fillpattern": {
             "fillmode": "overlay",
             "size": 10,
             "solidity": 0.2
            },
            "type": "scatter"
           }
          ],
          "scatter3d": [
           {
            "line": {
             "colorbar": {
              "outlinewidth": 0,
              "ticks": ""
             }
            },
            "marker": {
             "colorbar": {
              "outlinewidth": 0,
              "ticks": ""
             }
            },
            "type": "scatter3d"
           }
          ],
          "scattercarpet": [
           {
            "marker": {
             "colorbar": {
              "outlinewidth": 0,
              "ticks": ""
             }
            },
            "type": "scattercarpet"
           }
          ],
          "scattergeo": [
           {
            "marker": {
             "colorbar": {
              "outlinewidth": 0,
              "ticks": ""
             }
            },
            "type": "scattergeo"
           }
          ],
          "scattergl": [
           {
            "marker": {
             "colorbar": {
              "outlinewidth": 0,
              "ticks": ""
             }
            },
            "type": "scattergl"
           }
          ],
          "scattermap": [
           {
            "marker": {
             "colorbar": {
              "outlinewidth": 0,
              "ticks": ""
             }
            },
            "type": "scattermap"
           }
          ],
          "scattermapbox": [
           {
            "marker": {
             "colorbar": {
              "outlinewidth": 0,
              "ticks": ""
             }
            },
            "type": "scattermapbox"
           }
          ],
          "scatterpolar": [
           {
            "marker": {
             "colorbar": {
              "outlinewidth": 0,
              "ticks": ""
             }
            },
            "type": "scatterpolar"
           }
          ],
          "scatterpolargl": [
           {
            "marker": {
             "colorbar": {
              "outlinewidth": 0,
              "ticks": ""
             }
            },
            "type": "scatterpolargl"
           }
          ],
          "scatterternary": [
           {
            "marker": {
             "colorbar": {
              "outlinewidth": 0,
              "ticks": ""
             }
            },
            "type": "scatterternary"
           }
          ],
          "surface": [
           {
            "colorbar": {
             "outlinewidth": 0,
             "ticks": ""
            },
            "colorscale": [
             [
              0,
              "#0d0887"
             ],
             [
              0.1111111111111111,
              "#46039f"
             ],
             [
              0.2222222222222222,
              "#7201a8"
             ],
             [
              0.3333333333333333,
              "#9c179e"
             ],
             [
              0.4444444444444444,
              "#bd3786"
             ],
             [
              0.5555555555555556,
              "#d8576b"
             ],
             [
              0.6666666666666666,
              "#ed7953"
             ],
             [
              0.7777777777777778,
              "#fb9f3a"
             ],
             [
              0.8888888888888888,
              "#fdca26"
             ],
             [
              1,
              "#f0f921"
             ]
            ],
            "type": "surface"
           }
          ],
          "table": [
           {
            "cells": {
             "fill": {
              "color": "#EBF0F8"
             },
             "line": {
              "color": "white"
             }
            },
            "header": {
             "fill": {
              "color": "#C8D4E3"
             },
             "line": {
              "color": "white"
             }
            },
            "type": "table"
           }
          ]
         },
         "layout": {
          "annotationdefaults": {
           "arrowcolor": "#2a3f5f",
           "arrowhead": 0,
           "arrowwidth": 1
          },
          "autotypenumbers": "strict",
          "coloraxis": {
           "colorbar": {
            "outlinewidth": 0,
            "ticks": ""
           }
          },
          "colorscale": {
           "diverging": [
            [
             0,
             "#8e0152"
            ],
            [
             0.1,
             "#c51b7d"
            ],
            [
             0.2,
             "#de77ae"
            ],
            [
             0.3,
             "#f1b6da"
            ],
            [
             0.4,
             "#fde0ef"
            ],
            [
             0.5,
             "#f7f7f7"
            ],
            [
             0.6,
             "#e6f5d0"
            ],
            [
             0.7,
             "#b8e186"
            ],
            [
             0.8,
             "#7fbc41"
            ],
            [
             0.9,
             "#4d9221"
            ],
            [
             1,
             "#276419"
            ]
           ],
           "sequential": [
            [
             0,
             "#0d0887"
            ],
            [
             0.1111111111111111,
             "#46039f"
            ],
            [
             0.2222222222222222,
             "#7201a8"
            ],
            [
             0.3333333333333333,
             "#9c179e"
            ],
            [
             0.4444444444444444,
             "#bd3786"
            ],
            [
             0.5555555555555556,
             "#d8576b"
            ],
            [
             0.6666666666666666,
             "#ed7953"
            ],
            [
             0.7777777777777778,
             "#fb9f3a"
            ],
            [
             0.8888888888888888,
             "#fdca26"
            ],
            [
             1,
             "#f0f921"
            ]
           ],
           "sequentialminus": [
            [
             0,
             "#0d0887"
            ],
            [
             0.1111111111111111,
             "#46039f"
            ],
            [
             0.2222222222222222,
             "#7201a8"
            ],
            [
             0.3333333333333333,
             "#9c179e"
            ],
            [
             0.4444444444444444,
             "#bd3786"
            ],
            [
             0.5555555555555556,
             "#d8576b"
            ],
            [
             0.6666666666666666,
             "#ed7953"
            ],
            [
             0.7777777777777778,
             "#fb9f3a"
            ],
            [
             0.8888888888888888,
             "#fdca26"
            ],
            [
             1,
             "#f0f921"
            ]
           ]
          },
          "colorway": [
           "#636efa",
           "#EF553B",
           "#00cc96",
           "#ab63fa",
           "#FFA15A",
           "#19d3f3",
           "#FF6692",
           "#B6E880",
           "#FF97FF",
           "#FECB52"
          ],
          "font": {
           "color": "#2a3f5f"
          },
          "geo": {
           "bgcolor": "white",
           "lakecolor": "white",
           "landcolor": "#E5ECF6",
           "showlakes": true,
           "showland": true,
           "subunitcolor": "white"
          },
          "hoverlabel": {
           "align": "left"
          },
          "hovermode": "closest",
          "mapbox": {
           "style": "light"
          },
          "paper_bgcolor": "white",
          "plot_bgcolor": "#E5ECF6",
          "polar": {
           "angularaxis": {
            "gridcolor": "white",
            "linecolor": "white",
            "ticks": ""
           },
           "bgcolor": "#E5ECF6",
           "radialaxis": {
            "gridcolor": "white",
            "linecolor": "white",
            "ticks": ""
           }
          },
          "scene": {
           "xaxis": {
            "backgroundcolor": "#E5ECF6",
            "gridcolor": "white",
            "gridwidth": 2,
            "linecolor": "white",
            "showbackground": true,
            "ticks": "",
            "zerolinecolor": "white"
           },
           "yaxis": {
            "backgroundcolor": "#E5ECF6",
            "gridcolor": "white",
            "gridwidth": 2,
            "linecolor": "white",
            "showbackground": true,
            "ticks": "",
            "zerolinecolor": "white"
           },
           "zaxis": {
            "backgroundcolor": "#E5ECF6",
            "gridcolor": "white",
            "gridwidth": 2,
            "linecolor": "white",
            "showbackground": true,
            "ticks": "",
            "zerolinecolor": "white"
           }
          },
          "shapedefaults": {
           "line": {
            "color": "#2a3f5f"
           }
          },
          "ternary": {
           "aaxis": {
            "gridcolor": "white",
            "linecolor": "white",
            "ticks": ""
           },
           "baxis": {
            "gridcolor": "white",
            "linecolor": "white",
            "ticks": ""
           },
           "bgcolor": "#E5ECF6",
           "caxis": {
            "gridcolor": "white",
            "linecolor": "white",
            "ticks": ""
           }
          },
          "title": {
           "x": 0.05
          },
          "xaxis": {
           "automargin": true,
           "gridcolor": "white",
           "linecolor": "white",
           "ticks": "",
           "title": {
            "standoff": 15
           },
           "zerolinecolor": "white",
           "zerolinewidth": 2
          },
          "yaxis": {
           "automargin": true,
           "gridcolor": "white",
           "linecolor": "white",
           "ticks": "",
           "title": {
            "standoff": 15
           },
           "zerolinecolor": "white",
           "zerolinewidth": 2
          }
         }
        },
        "title": {
         "font": {
          "size": 16
         },
         "text": "Time-Aligned Plasma Diagnostics Data",
         "x": 0.5
        },
        "xaxis": {
         "anchor": "y",
         "domain": [
          0,
          1
         ],
         "matches": "x3",
         "showticklabels": false
        },
        "xaxis2": {
         "anchor": "y2",
         "domain": [
          0,
          1
         ],
         "matches": "x3",
         "showticklabels": false
        },
        "xaxis3": {
         "anchor": "y3",
         "domain": [
          0,
          1
         ],
         "title": {
          "text": "Time (seconds)"
         }
        },
        "yaxis": {
         "anchor": "x",
         "domain": [
          0.72,
          1
         ],
         "title": {
          "text": "q-profile"
         }
        },
        "yaxis2": {
         "anchor": "x2",
         "domain": [
          0.36,
          0.6399999999999999
         ],
         "title": {
          "text": "Width"
         }
        },
        "yaxis3": {
         "anchor": "x3",
         "domain": [
          0,
          0.27999999999999997
         ],
         "title": {
          "text": "Amplitude"
         }
        }
       }
      }
     },
     "metadata": {},
     "output_type": "display_data"
    },
    {
     "name": "stdout",
     "output_type": "stream",
     "text": [
      "Plot created with 1000 interpolated points\n",
      "Time range: 0.4725 - 2.3385 seconds\n"
     ]
    }
   ],
   "source": [
    "# Create interactive plot with all three groups aligned by time\n",
    "from scipy import interpolate\n",
    "\n",
    "print(\"Creating interactive plot with time-aligned data...\")\n",
    "\n",
    "with h5py.File(file_path, 'r') as f:\n",
    "    # Extract time arrays and data\n",
    "    astra_time = f['astra/time'][0]\n",
    "    astra_q = f['astra/q'][:, 30]  # Middle radial position\n",
    "    \n",
    "    width_time = f['width/time'][0]\n",
    "    width_width = f['width/width'][0]\n",
    "    \n",
    "    mhd_time = f['mhd/time'][0]\n",
    "    mhd_amplitude = f['mhd/amplitude'][0]\n",
    "    \n",
    "    # Define common time window (intersection of all valid ranges)\n",
    "    # Find the overlapping time range\n",
    "    astra_valid = astra_time[~np.isnan(astra_time)]\n",
    "    width_valid = width_time[~np.isnan(width_time)]\n",
    "    mhd_valid = mhd_time[~np.isnan(mhd_time)]\n",
    "    \n",
    "    time_start = max(astra_valid.min(), width_valid.min(), mhd_valid.min())\n",
    "    time_end = min(astra_valid.max(), width_valid.max(), mhd_valid.max())\n",
    "    \n",
    "    print(f\"Common time window: {time_start:.4f} to {time_end:.4f} seconds\")\n",
    "    \n",
    "    # Create common time grid for interpolation\n",
    "    common_time = np.linspace(time_start, time_end, 1000)\n",
    "    \n",
    "    # Interpolate all datasets to common time grid\n",
    "    datasets = {}\n",
    "    \n",
    "    # ASTRA data\n",
    "    astra_mask = ~np.isnan(astra_time) & ~np.isnan(astra_q)\n",
    "    if np.sum(astra_mask) > 1:\n",
    "        astra_interp = interpolate.interp1d(\n",
    "            astra_time[astra_mask], astra_q[astra_mask], \n",
    "            kind='linear', bounds_error=False, fill_value=np.nan\n",
    "        )\n",
    "        datasets['ASTRA q-profile'] = astra_interp(common_time)\n",
    "    \n",
    "    # WIDTH data\n",
    "    width_mask = ~np.isnan(width_time) & ~np.isnan(width_width)\n",
    "    if np.sum(width_mask) > 1:\n",
    "        width_interp = interpolate.interp1d(\n",
    "            width_time[width_mask], width_width[width_mask],\n",
    "            kind='linear', bounds_error=False, fill_value=np.nan\n",
    "        )\n",
    "        datasets['Width'] = width_interp(common_time)\n",
    "    \n",
    "    # MHD data\n",
    "    mhd_mask = ~np.isnan(mhd_time) & ~np.isnan(mhd_amplitude)\n",
    "    if np.sum(mhd_mask) > 1:\n",
    "        mhd_interp = interpolate.interp1d(\n",
    "            mhd_time[mhd_mask], mhd_amplitude[mhd_mask],\n",
    "            kind='linear', bounds_error=False, fill_value=np.nan\n",
    "        )\n",
    "        datasets['MHD Amplitude'] = mhd_interp(common_time)\n",
    "\n",
    "# Create interactive plot using Plotly\n",
    "fig = make_subplots(\n",
    "    rows=3, cols=1,\n",
    "    shared_xaxes=True,\n",
    "    subplot_titles=list(datasets.keys()),\n",
    "    vertical_spacing=0.08,\n",
    "    specs=[[{\"secondary_y\": False}],\n",
    "           [{\"secondary_y\": False}],\n",
    "           [{\"secondary_y\": False}]]\n",
    ")\n",
    "\n",
    "colors = ['#1f77b4', '#ff7f0e', '#2ca02c']\n",
    "\n",
    "for i, (name, data) in enumerate(datasets.items(), 1):\n",
    "    fig.add_trace(\n",
    "        go.Scatter(\n",
    "            x=common_time,\n",
    "            y=data,\n",
    "            mode='lines',\n",
    "            name=name,\n",
    "            line=dict(color=colors[i-1], width=2),\n",
    "            hovertemplate=f'<b>{name}</b><br>Time: %{{x:.4f}} s<br>Value: %{{y:.6f}}<extra></extra>'\n",
    "        ),\n",
    "        row=i, col=1\n",
    "    )\n",
    "\n",
    "# Update layout\n",
    "fig.update_layout(\n",
    "    height=800,\n",
    "    title=dict(\n",
    "        text=\"Time-Aligned Plasma Diagnostics Data\",\n",
    "        x=0.5,\n",
    "        font=dict(size=16)\n",
    "    ),\n",
    "    showlegend=True,\n",
    "    hovermode='x unified'\n",
    ")\n",
    "\n",
    "# Update x-axis for bottom subplot only\n",
    "fig.update_xaxes(title_text=\"Time (seconds)\", row=3, col=1)\n",
    "\n",
    "# Update y-axes\n",
    "fig.update_yaxes(title_text=\"q-profile\", row=1, col=1)\n",
    "fig.update_yaxes(title_text=\"Width\", row=2, col=1)\n",
    "fig.update_yaxes(title_text=\"Amplitude\", row=3, col=1)\n",
    "\n",
    "fig.show()\n",
    "\n",
    "print(f\"Plot created with {len(common_time)} interpolated points\")\n",
    "print(f\"Time range: {common_time[0]:.4f} - {common_time[-1]:.4f} seconds\")"
   ]
  }
 ],
 "metadata": {
  "kernelspec": {
   "display_name": "machine-learning (3.13.3)",
   "language": "python",
   "name": "python3"
  },
  "language_info": {
   "codemirror_mode": {
    "name": "ipython",
    "version": 3
   },
   "file_extension": ".py",
   "mimetype": "text/x-python",
   "name": "python",
   "nbconvert_exporter": "python",
   "pygments_lexer": "ipython3",
   "version": "3.13.3"
  }
 },
 "nbformat": 4,
 "nbformat_minor": 5
}
